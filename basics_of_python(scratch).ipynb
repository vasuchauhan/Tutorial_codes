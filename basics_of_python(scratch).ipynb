{
 "cells": [
  {
   "cell_type": "markdown",
   "metadata": {},
   "source": [
    "## <h1 align=\"center\"> Basics of Python from Scratch <h1/>"
   ]
  },
  {
   "cell_type": "markdown",
   "metadata": {},
   "source": [
    "### This notebook contains the content learned from the code with Harry \"100 days of Python series\"\n",
    "### It also contains the topic wise links to the IBM course hands on lab notebooks. "
   ]
  },
  {
   "cell_type": "markdown",
   "metadata": {},
   "source": [
    "### print() function"
   ]
  },
  {
   "cell_type": "code",
   "execution_count": 1,
   "metadata": {},
   "outputs": [
    {
     "name": "stdout",
     "output_type": "stream",
     "text": [
      "sup bitch\n",
      "0\n",
      "96 24 operators\n",
      "4.0\n"
     ]
    }
   ],
   "source": [
    "print(\"sup bitch\")\n",
    "print(9%3) #gives remainder\n",
    "print(12*8, 12*2, \"operators\") \n",
    "print(2*8/4)"
   ]
  },
  {
   "cell_type": "code",
   "execution_count": 3,
   "metadata": {},
   "outputs": [
    {
     "name": "stdout",
     "output_type": "stream",
     "text": [
      "escape sequence \n",
      "my bitch\n",
      "dnjansajns \"escape sequence for double quotes is this\" jdisjdisjds\n",
      "vasu+6+78faadu\n"
     ]
    }
   ],
   "source": [
    "print(\"escape sequence \\nmy bitch\") #\\n is an escape sequence\n",
    "print(\"dnjansajns \\\"escape sequence for double quotes is this\\\" jdisjdisjds\") # use (\\\" ...text..... \\\") for double quotes within a string\n",
    "print(\"vasu\", 6, 7, sep=\"+\", end=\"8\") #sep=seperator (default = _) ; end=end of line (default= \\n -> meaning it'll start from next line)\n",
    "print(\"faadu\")"
   ]
  },
  {
   "cell_type": "markdown",
   "metadata": {},
   "source": [
    "### in-built module sys\n",
    "Sys module used to obtain system information. Several different parameters such as version, int_info, float_info, etc."
   ]
  },
  {
   "cell_type": "code",
   "execution_count": 2,
   "metadata": {},
   "outputs": [
    {
     "name": "stdout",
     "output_type": "stream",
     "text": [
      "3.12.3 (tags/v3.12.3:f6650f9, Apr  9 2024, 14:05:25) [MSC v.1938 64 bit (AMD64)]\n",
      "sys.float_info(max=1.7976931348623157e+308, max_exp=1024, max_10_exp=308, min=2.2250738585072014e-308, min_exp=-1021, min_10_exp=-307, dig=15, mant_dig=53, epsilon=2.220446049250313e-16, radix=2, rounds=1)\n",
      "sys.int_info(bits_per_digit=30, sizeof_digit=4, default_max_str_digits=4300, str_digits_check_threshold=640)\n"
     ]
    }
   ],
   "source": [
    "import sys\n",
    "print(sys.version)\n",
    "print(sys.float_info)\n",
    "print(sys.int_info)"
   ]
  },
  {
   "cell_type": "markdown",
   "metadata": {},
   "source": [
    "#### Regular division(/) returns floating point result (even when result is whole number)\n",
    "#### Floor division (//) returns only the integer part of result."
   ]
  },
  {
   "cell_type": "code",
   "execution_count": 7,
   "metadata": {},
   "outputs": [
    {
     "data": {
      "text/plain": [
       "float"
      ]
     },
     "execution_count": 7,
     "metadata": {},
     "output_type": "execute_result"
    }
   ],
   "source": [
    "type(10/3)  # Result: 3.3333333333333335"
   ]
  },
  {
   "cell_type": "code",
   "execution_count": 8,
   "metadata": {},
   "outputs": [
    {
     "data": {
      "text/plain": [
       "int"
      ]
     },
     "execution_count": 8,
     "metadata": {},
     "output_type": "execute_result"
    }
   ],
   "source": [
    "type(10 // 3)  # Result: 3"
   ]
  },
  {
   "cell_type": "markdown",
   "metadata": {},
   "source": [
    "### Calculator"
   ]
  },
  {
   "cell_type": "code",
   "execution_count": 9,
   "metadata": {},
   "outputs": [
    {
     "name": "stdout",
     "output_type": "stream",
     "text": [
      "8\n",
      "5\n",
      "Sum is :  13\n",
      "Difference is :  3\n",
      "Division is :  1.6\n",
      "multiplication is :  40\n",
      "floor division is :  1\n",
      "modulus is :  3\n",
      "exponent is :  32768\n"
     ]
    }
   ],
   "source": [
    "x=8\n",
    "y=5\n",
    "print(x)\n",
    "print(y)\n",
    "print(\"Sum is : \", x+y)\n",
    "print(\"Difference is : \", x-y)\n",
    "print(\"Division is : \", x/y)\n",
    "print(\"multiplication is : \", x*y)\n",
    "print(\"floor division is : \", x//y)\n",
    "print(\"modulus is : \", x%y)\n",
    "print(\"exponent is : \", x**y)"
   ]
  },
  {
   "cell_type": "markdown",
   "metadata": {},
   "source": [
    "### input() function takes input and stores it in a variable"
   ]
  },
  {
   "cell_type": "code",
   "execution_count": 1,
   "metadata": {},
   "outputs": [
    {
     "name": "stdout",
     "output_type": "stream",
     "text": [
      "Bhadhwe\n"
     ]
    }
   ],
   "source": [
    "a=input()     #another way to input without displaying any text\n",
    "print(a)"
   ]
  },
  {
   "cell_type": "markdown",
   "metadata": {},
   "source": [
    "### Explicit and Implicit Typecasting\n",
    "For the rest of type casting refer to the [C4_M1_types notebook](./C4_M1_Types.ipynb)"
   ]
  },
  {
   "cell_type": "code",
   "execution_count": 14,
   "metadata": {},
   "outputs": [
    {
     "name": "stdout",
     "output_type": "stream",
     "text": [
      "sum is :  6\n"
     ]
    }
   ],
   "source": [
    "#Explicit Typecasting\n",
    "x=input(\"enter number 1 : \")\n",
    "y=input(\"enter number 2 : \")\n",
    "\n",
    "print(\"sum is : \", int(x) + int(y)) #Explicit typecasting"
   ]
  },
  {
   "cell_type": "code",
   "execution_count": 1,
   "metadata": {},
   "outputs": [
    {
     "name": "stdout",
     "output_type": "stream",
     "text": [
      "48.5\n"
     ]
    }
   ],
   "source": [
    "#Implicit typecasting\n",
    "t=45\n",
    "g=3.5\n",
    "print(t+g)  #Implicit typecasting as data type of t was automatically typecasted to float which is a higher data type"
   ]
  },
  {
   "cell_type": "markdown",
   "metadata": {},
   "source": [
    "### Format Strings in Python"
   ]
  },
  {
   "cell_type": "markdown",
   "metadata": {},
   "source": [
    "#### String interpolation (f-strings)\n",
    "Introduced in Python 3.6, f-strings are a new way to format strings in Python. They are prefixed with 'f' and use curly braces {} to enclose the variables that will be formatted. For example:\n"
   ]
  },
  {
   "cell_type": "code",
   "execution_count": 2,
   "metadata": {},
   "outputs": [
    {
     "name": "stdout",
     "output_type": "stream",
     "text": [
      "My name is vasu and my age is 24\n"
     ]
    }
   ],
   "source": [
    "name=\"vasu\"\n",
    "age=24\n",
    "print(f\"My name is {name} and my age is {age}\")"
   ]
  },
  {
   "cell_type": "markdown",
   "metadata": {},
   "source": [
    "#### str.format()\n",
    "This is another way to format strings in Python. It uses curly braces {} as placeholders for variables which are passed as arguments in the format() method. For example"
   ]
  },
  {
   "cell_type": "code",
   "execution_count": 4,
   "metadata": {},
   "outputs": [
    {
     "name": "stdout",
     "output_type": "stream",
     "text": [
      "My name is vasu and my age is 24\n"
     ]
    }
   ],
   "source": [
    "name=\"vasu\"\n",
    "age=24\n",
    "print(\"My name is {} and my age is {}\".format(name,age))\n"
   ]
  },
  {
   "cell_type": "markdown",
   "metadata": {},
   "source": [
    "#### % Operator\n",
    "This is one of the oldest ways to format strings in Python. It uses the % operator to replace variables in the string. For example"
   ]
  },
  {
   "cell_type": "code",
   "execution_count": 6,
   "metadata": {},
   "outputs": [
    {
     "name": "stdout",
     "output_type": "stream",
     "text": [
      "My name is Vasu and my age is 24.\n"
     ]
    }
   ],
   "source": [
    "name=\"Vasu\"\n",
    "age=24\n",
    "print(\"My name is %s and my age is %d.\"%(name,age))\n"
   ]
  },
  {
   "cell_type": "markdown",
   "metadata": {},
   "source": [
    "This is a string that includes format specifiers:\n",
    "- **%s**: This is a placeholder for a string.\n",
    "- **%d**: This is a placeholder for an integer.\n"
   ]
  },
  {
   "cell_type": "markdown",
   "metadata": {},
   "source": [
    "#### Additional capabilities\n",
    "F-strings are also able to evaluate expressions inside the curly braces, which can be very handy. For example"
   ]
  },
  {
   "cell_type": "code",
   "execution_count": 9,
   "metadata": {},
   "outputs": [
    {
     "name": "stdout",
     "output_type": "stream",
     "text": [
      "The sum of the given numbers is 6\n"
     ]
    }
   ],
   "source": [
    "x=2\n",
    "y=4\n",
    "print(f\"The sum of the given numbers is {x+y}\")\n"
   ]
  },
  {
   "cell_type": "markdown",
   "metadata": {},
   "source": [
    "#### Raw String (r’’)\n",
    "In Python, raw strings are a powerful tool for handling textual data, especially when dealing with escape characters. By prefixing a string literal with the letter ‘r’, Python treats the string as raw, meaning it interprets backslashes as literal characters rather than escape sequences.\n",
    "\n",
    "Consider the following examples of regular string and raw string:"
   ]
  },
  {
   "cell_type": "code",
   "execution_count": 10,
   "metadata": {},
   "outputs": [
    {
     "name": "stdout",
     "output_type": "stream",
     "text": [
      "Regular String: C:\n",
      "ew_folder\file.txt\n"
     ]
    }
   ],
   "source": [
    "#Regular string\n",
    "regular_string = \"C:\\new_folder\\file.txt\"\n",
    "print(\"Regular String:\", regular_string)\n"
   ]
  },
  {
   "cell_type": "markdown",
   "metadata": {},
   "source": [
    "In the regular string regular_string variable, the backslashes (\\n) are interpreted as escape sequences. Therefore, \\n represents a newline character, which would lead to an incorrect file path representation"
   ]
  },
  {
   "cell_type": "code",
   "execution_count": 11,
   "metadata": {},
   "outputs": [
    {
     "name": "stdout",
     "output_type": "stream",
     "text": [
      "Raw string: C:\\new_folder\\file.txt\n"
     ]
    }
   ],
   "source": [
    "#Raw string\n",
    "raw_string=r\"C:\\new_folder\\file.txt\"\n",
    "print(\"Raw string:\",raw_string)\n"
   ]
  },
  {
   "cell_type": "markdown",
   "metadata": {},
   "source": [
    "However, in the raw string raw_string, the backslashes are treated as literal characters. This means that \\n is not interpreted as a newline character, but rather as two separate characters, ‘’ and ‘n’. Consequently, the file path is represented exactly as it appears\n",
    "for more about strings refer to \n",
    "\n",
    "[C4_M1_Strings notebook](./C4_M1_Strings.ipynb)"
   ]
  },
  {
   "cell_type": "markdown",
   "metadata": {},
   "source": [
    "#### Using re module and some of it's functions"
   ]
  },
  {
   "cell_type": "code",
   "execution_count": 17,
   "metadata": {},
   "outputs": [
    {
     "name": "stdout",
     "output_type": "stream",
     "text": [
      "Match found :  1234567894\n"
     ]
    }
   ],
   "source": [
    "import re\n",
    "pattern=r\"\\d\\d\\d\\d\\d\\d\\d\\d\\d\\d\"\n",
    "a= \"my phone number is 1234567894\"\n",
    "x=re.search(pattern, a)\n",
    "if x:\n",
    "    print(\"Match found : \", x.group())\n",
    "else:\n",
    "    print(\"Match not found\")\n",
    "\n"
   ]
  },
  {
   "cell_type": "markdown",
   "metadata": {},
   "source": [
    "#### The re.sub() function of a regular expression in Python is used to replace all occurrences of a pattern in a string with a specified replacement"
   ]
  },
  {
   "cell_type": "code",
   "execution_count": 19,
   "metadata": {},
   "outputs": [
    {
     "name": "stdout",
     "output_type": "stream",
     "text": [
      "Michael Jackson is the legend\n"
     ]
    }
   ],
   "source": [
    "s1=r\"Michael Jackson is the king of pop\"\n",
    "pattern=\"king of pop\"\n",
    "rep=\"legend\"\n",
    "new=re.sub(pattern,rep,s1,flags=re.IGNORECASE)\n",
    "print(new)"
   ]
  },
  {
   "cell_type": "markdown",
   "metadata": {},
   "source": [
    "### if-else statement"
   ]
  },
  {
   "cell_type": "code",
   "execution_count": 26,
   "metadata": {},
   "outputs": [
    {
     "name": "stdout",
     "output_type": "stream",
     "text": [
      "can drive\n"
     ]
    }
   ],
   "source": [
    "a= int(input(\"Enter your age: \"))\n",
    "if(a>=18):\n",
    "    print(\"can drive\")\n",
    "else:\n",
    "    print(\"can't drive\")"
   ]
  },
  {
   "cell_type": "markdown",
   "metadata": {},
   "source": [
    "### elif statement"
   ]
  },
  {
   "cell_type": "code",
   "execution_count": 28,
   "metadata": {},
   "outputs": [
    {
     "name": "stdout",
     "output_type": "stream",
     "text": [
      "Number is Special.\n"
     ]
    }
   ],
   "source": [
    "num = int(input(\"Enter the value of num: \"))\n",
    "if (num < 0):\n",
    "  print(\"Number is negative.\")\n",
    "elif (num == 0):\n",
    "  print(\"Number is Zero.\")\n",
    "elif (num == 999):\n",
    "  print(\"Number is Special.\")\n",
    "else:\n",
    "  print(\"Number is positive.\")"
   ]
  },
  {
   "cell_type": "markdown",
   "metadata": {},
   "source": [
    "### nested if-elif-else"
   ]
  },
  {
   "cell_type": "code",
   "execution_count": 1,
   "metadata": {},
   "outputs": [
    {
     "name": "stdout",
     "output_type": "stream",
     "text": [
      "Number is between 1-10\n"
     ]
    }
   ],
   "source": [
    "x=int(input(\"Enter a number: \"))\n",
    "if (x < 0):\n",
    "    print(\"Number is negative.\")\n",
    "elif (x > 0):\n",
    "    if (x <= 10):\n",
    "        print(\"Number is between 1-10\")\n",
    "    elif (x > 10 and x <= 20):\n",
    "        print(\"Number is between 11-20\")\n",
    "    else:\n",
    "        print(\"Number is greater than 20\")\n",
    "else:\n",
    "    print(\"Number is zero\")"
   ]
  },
  {
   "cell_type": "markdown",
   "metadata": {},
   "source": [
    "### good morning using time module (time module is in-built)"
   ]
  },
  {
   "cell_type": "code",
   "execution_count": 4,
   "metadata": {},
   "outputs": [
    {
     "name": "stdout",
     "output_type": "stream",
     "text": [
      "22:48:17\n",
      "Good night\n"
     ]
    }
   ],
   "source": [
    "import time\n",
    "\n",
    "timestamp = time.strftime(\"%H:%M:%S\")\n",
    "print(timestamp)\n",
    "hour = int(time.strftime(\"%H\"))\n",
    "\n",
    "# time divisions\n",
    "if hour < 12:\n",
    "    print(\"Good morning\")\n",
    "elif hour >= 12 and hour < 18:  # Afternoon until 6pm\n",
    "    print(\"Good afternoon\")\n",
    "elif hour >= 18 and hour < 22:  # Evening until 10pm\n",
    "    print(\"Good evening\")\n",
    "else:\n",
    "    print(\"Good night\")  # Night hours"
   ]
  },
  {
   "cell_type": "markdown",
   "metadata": {},
   "source": [
    "### matchcase statement"
   ]
  },
  {
   "cell_type": "code",
   "execution_count": 5,
   "metadata": {},
   "outputs": [
    {
     "name": "stdout",
     "output_type": "stream",
     "text": [
      "90 is not 80\n"
     ]
    }
   ],
   "source": [
    "x=int(input(\"Enter a number : \"))\n",
    "#x is the variable to match\n",
    "match x:\n",
    "    case 0:\n",
    "        print(\"case is zero\")\n",
    "    case 4:\n",
    "        print(\"case is 4\")\n",
    "    case _ if x!=90:\n",
    "        print(x,\"is not 90\")\n",
    "    case _ if x!=80:\n",
    "        print(x,\"is not 80\")\n",
    "    case _:\n",
    "        print(x)\n"
   ]
  },
  {
   "cell_type": "markdown",
   "metadata": {},
   "source": [
    "### Loops\n",
    "##### for more on Loops, refer to the IBM notebook [C4_M3_Loops](./C4_M3_Loops.ipynb)\n",
    "#### for loop"
   ]
  },
  {
   "cell_type": "code",
   "execution_count": 3,
   "metadata": {},
   "outputs": [
    {
     "name": "stdout",
     "output_type": "stream",
     "text": [
      "Red\n",
      "R\n",
      "e\n",
      "d\n",
      "Green\n",
      "G\n",
      "r\n",
      "e\n",
      "e\n",
      "n\n",
      "Blue\n",
      "B\n",
      "l\n",
      "u\n",
      "e\n"
     ]
    }
   ],
   "source": [
    "# name=\"vasu\"\n",
    "# for i in name:\n",
    "#     print(i,end=\",\")\n",
    "#     if(i==\"s\"):\n",
    "#         print(\"Sussu\")\n",
    "\n",
    "colors= [\"Red\", \"Green\", \"Blue\"]\n",
    "for color in colors:\n",
    "    print(color)\n",
    "    for i in color:        #nested loop\n",
    "        print(i)\n"
   ]
  },
  {
   "cell_type": "markdown",
   "metadata": {},
   "source": [
    "##### using range()\n",
    "for loop has 3 parameters\n",
    "    \n",
    "for i in range(start, stop, step):\n",
    "\n",
    "default values for these parameters are:\n",
    "- start -> 0 \n",
    "- stop -> the value passed by the User\n",
    "- step -> +1"
   ]
  },
  {
   "cell_type": "code",
   "execution_count": 5,
   "metadata": {},
   "outputs": [
    {
     "name": "stdout",
     "output_type": "stream",
     "text": [
      "30 28 26 24 22 20 18 16 14 12 10 8 6 4 2 "
     ]
    }
   ],
   "source": [
    "# for k in range(5):\n",
    "#     print(k,end=\",\")\n",
    "for k in range(30,1,-2):\n",
    "    print(k,end=\" \")\n",
    "    "
   ]
  },
  {
   "cell_type": "markdown",
   "metadata": {},
   "source": [
    "#### while loop  (generally used with complex conditions)"
   ]
  },
  {
   "cell_type": "code",
   "execution_count": 6,
   "metadata": {},
   "outputs": [
    {
     "name": "stdout",
     "output_type": "stream",
     "text": [
      "0\n",
      "1\n",
      "2\n",
      "3\n",
      "loop ended\n"
     ]
    }
   ],
   "source": [
    "i=0\n",
    "while(i<4):\n",
    "    print(i)\n",
    "    i=i+1\n",
    "print(\"loop ended\")"
   ]
  },
  {
   "cell_type": "markdown",
   "metadata": {},
   "source": [
    "#### using while() with else."
   ]
  },
  {
   "cell_type": "code",
   "execution_count": 7,
   "metadata": {},
   "outputs": [
    {
     "name": "stdout",
     "output_type": "stream",
     "text": [
      "5\n",
      "4\n",
      "3\n",
      "2\n",
      "1\n",
      "Inside else now\n"
     ]
    }
   ],
   "source": [
    "j=5\n",
    "while(j>0):\n",
    "    print(j)\n",
    "    j=j-1\n",
    "else:\n",
    "    print(\"Inside else now\")\n"
   ]
  },
  {
   "cell_type": "markdown",
   "metadata": {},
   "source": [
    "### Break and continue statement\n",
    "\n",
    "- break statement exits the Loop\n",
    "- continue statement skips the iteration and begins from the next iteration"
   ]
  },
  {
   "cell_type": "code",
   "execution_count": 9,
   "metadata": {},
   "outputs": [
    {
     "name": "stdout",
     "output_type": "stream",
     "text": [
      "0\n",
      "1\n",
      "2\n",
      "exit loop\n",
      "\n",
      " loop ended\n"
     ]
    }
   ],
   "source": [
    "#break statement\n",
    "\n",
    "i=1\n",
    "for i in range(5):\n",
    "    if(i==3):\n",
    "        print(\"exit loop\")\n",
    "        break\n",
    "    print(i)\n",
    "    \n",
    "print(\"\\n loop ended\")\n"
   ]
  },
  {
   "cell_type": "code",
   "execution_count": 10,
   "metadata": {},
   "outputs": [
    {
     "name": "stdout",
     "output_type": "stream",
     "text": [
      "0\n",
      "1\n",
      "2\n",
      "Skip this iteration\n",
      "4\n",
      "\n",
      " Loop ended\n"
     ]
    }
   ],
   "source": [
    "#continue statement\n",
    "\n",
    "i=1\n",
    "for i in range(5):\n",
    "    if(i==3):\n",
    "        print(\"Skip this iteration\")\n",
    "        continue\n",
    "    print(i)\n",
    "\n",
    "print(\"\\n Loop ended\")\n"
   ]
  },
  {
   "cell_type": "markdown",
   "metadata": {},
   "source": [
    "#### do while() loop in Python\n",
    "\n",
    "##### Although do while() loop doesn't exist in Python, it is often asked (in interviews) to emmulate the do while() loop in Python \n",
    "\n",
    "##### do..while is a loop in which a set of instructions will execute at least once (irrespective of the condition) and then the repetition of loop's body will depend on the condition passed at the end of the while loop. It is also known as an exit-controlled loop.\n",
    "##### while true creates an infinite loop. The loop will continue to run until a break statement is encountered, which explicitly stops the loop.\n",
    "##### This code ensures the user is prompted to input a number at least once, regardless of whether the input is valid, before deciding to exit. "
   ]
  },
  {
   "cell_type": "code",
   "execution_count": 1,
   "metadata": {},
   "outputs": [
    {
     "name": "stdout",
     "output_type": "stream",
     "text": [
      "8\n",
      "9\n",
      "0\n",
      "do while loop emulated\n"
     ]
    }
   ],
   "source": [
    "while True:\n",
    "  number = int(input(\"Enter a positive number: \"))\n",
    "  print(number)\n",
    "  if number <= 0:\n",
    "    break\n",
    "print(\"do while loop emulated\")"
   ]
  },
  {
   "cell_type": "markdown",
   "metadata": {},
   "source": [
    "#### Tuples\n",
    "for more refer to the IBM notebook [C4_M2_Tuples](./C4_M2_Tuples.ipynb)"
   ]
  },
  {
   "cell_type": "code",
   "execution_count": 8,
   "metadata": {},
   "outputs": [
    {
     "name": "stdout",
     "output_type": "stream",
     "text": [
      "<class 'tuple'>\n",
      "2\n",
      "('lol', (4, 5), 'bitch')\n",
      "5\n",
      "o\n",
      "(1, 2, 'lol', (4, 5), 'bitch', 9, 'lund', 'lele')\n",
      "[3, 4, 5, 6, 8, 10]\n",
      "<class 'list'>\n"
     ]
    }
   ],
   "source": [
    "l=(1,2,\"lol\",(4,5),\"bitch\",9)  #(4,2) is a nested tuple i.e. a tuple within a tuple\n",
    "print(type(l))\n",
    "print(l[1])                   #indexing and slicing\n",
    "print(l[2:5])\n",
    "print(l[3][1])\n",
    "print(l[2][1])\n",
    "\n",
    "l2=l+(\"lund\",\"lele\")         #concatinating tuples\n",
    "print(l2)\n",
    "\n",
    "ratings=(10,4,6,3,8,5)\n",
    "new_ratings=sorted(ratings)  #applying sorted function\n",
    "print(new_ratings)\n",
    "print(type(new_ratings))       #tuple after applying the function sorted() becomes a new \"list\""
   ]
  },
  {
   "cell_type": "markdown",
   "metadata": {},
   "source": [
    "#### Lists \n",
    "for lists refer to the IBM notebook [C4_M2_Lists](./C4_M2_Lists.ipynb) "
   ]
  },
  {
   "cell_type": "markdown",
   "metadata": {},
   "source": [
    "#### Dictionaries\n",
    "\n",
    "for dictionaries refer to the IBM notebook [C4_M2_Dictionaries](./C4_M2_Dictionaries.ipynb)"
   ]
  },
  {
   "cell_type": "markdown",
   "metadata": {},
   "source": [
    "### Sets\n",
    "\n",
    "for sets refer to the IBM notebook [C4_M2_Sets](./C4_M2_Sets.ipynb)"
   ]
  },
  {
   "cell_type": "markdown",
   "metadata": {},
   "source": [
    "#### Conditions\n",
    "\n",
    "for conditions and logic operators refer to the IBM notebook [C4_M3_Conditions](./C4_M3_Conditions.ipynb)"
   ]
  },
  {
   "cell_type": "code",
   "execution_count": 7,
   "metadata": {},
   "outputs": [
    {
     "name": "stdout",
     "output_type": "stream",
     "text": [
      "0 red\n",
      "1 yellow\n",
      "2 green\n",
      "3 purple\n",
      "4 blue\n"
     ]
    }
   ],
   "source": [
    "squares=['red', 'yellow', 'green', 'purple', 'blue']\n",
    "\n",
    "for i, square in enumerate(squares):\n",
    "    print(i, square)"
   ]
  },
  {
   "cell_type": "markdown",
   "metadata": {},
   "source": [
    "#### Functions\n",
    "\n",
    "##### for more, refer to the IBM notebook [C4_M3_Functions](./C4_M3_Functions.ipynb)"
   ]
  },
  {
   "cell_type": "code",
   "execution_count": 1,
   "metadata": {},
   "outputs": [
    {
     "name": "stdout",
     "output_type": "stream",
     "text": [
      "1st number is greater\n",
      "\n",
      "Result is 1.7142857142857142\n"
     ]
    }
   ],
   "source": [
    "def isgreater(x,y):\n",
    "    if(x>y):\n",
    "        print(\"1st number is greater\")\n",
    "    else:\n",
    "        print(\"2nd number is greater\")\n",
    "\n",
    "def expression(x,y):\n",
    "    m=(x*y)/(x+y)\n",
    "    print(\"\\nResult is\",m)\n",
    "\n",
    "a=int(input(\"Enter 1st number: \"))\n",
    "b=int(input(\"Enter 2nd number: \"))\n",
    "isgreater(a,b)\n",
    "expression(a,b)"
   ]
  },
  {
   "cell_type": "markdown",
   "metadata": {},
   "source": [
    "##### Function arguments\n",
    "##### There are four types of arguments that we can provide in a function:\n",
    "##### **1. Default Arguments**\n",
    "##### We can provide a default value while creating a function. This way the function assumes a default value even if a value is not provided in the function call for that argument"
   ]
  },
  {
   "cell_type": "code",
   "execution_count": 1,
   "metadata": {},
   "outputs": [
    {
     "name": "stdout",
     "output_type": "stream",
     "text": [
      "Hello, Amy John Whatson\n"
     ]
    }
   ],
   "source": [
    "def name(fname, mname = \"John\", lname = \"Whatson\"):   #John and Watson are default arguments\n",
    "    print(\"Hello,\", fname, mname, lname)\n",
    "\n",
    "name(\"Amy\")"
   ]
  },
  {
   "cell_type": "markdown",
   "metadata": {},
   "source": [
    "##### **2. Keyword Arguments**\n",
    "##### We can provide arguments with key = value, this way the interpreter recognizes the arguments by the parameter name. Hence, the the order in which the arguments are passed does not matter."
   ]
  },
  {
   "cell_type": "code",
   "execution_count": 2,
   "metadata": {},
   "outputs": [
    {
     "name": "stdout",
     "output_type": "stream",
     "text": [
      "the average is :  6.5\n"
     ]
    }
   ],
   "source": [
    "def average(a=5, b=8):\n",
    "    print(\"the average is : \", (a+b)/2)\n",
    "\n",
    "average(b=5,a=8)"
   ]
  },
  {
   "cell_type": "markdown",
   "metadata": {},
   "source": [
    "##### **3. Required arguments:**\n",
    "##### In case we don’t pass the arguments with a key = value syntax, then it is necessary to pass the arguments in the correct positional order and the number of arguments passed should match with actual function definition.\n"
   ]
  },
  {
   "cell_type": "code",
   "execution_count": null,
   "metadata": {},
   "outputs": [],
   "source": [
    "def name(fname, mname, lname):\n",
    "    print(\"Hello,\", fname, mname, lname)\n",
    "\n",
    "name(\"Peter\", \"Quill\")   #will get an error as lname argument is not given"
   ]
  },
  {
   "cell_type": "markdown",
   "metadata": {},
   "source": [
    "##### **4. Variable length Arguments**\n",
    "##### Sometimes we may need to pass more arguments than those defined in the actual function. This can be done using variable-length arguments. There are two ways to achieve this :-\n",
    "\n",
    "##### *a) Arbitrary Arguments:*\n",
    "##### While creating a function, pass a * before the parameter name while defining the function. The function accesses the arguments by processing them in the form of tuple\n"
   ]
  },
  {
   "cell_type": "code",
   "execution_count": 3,
   "metadata": {},
   "outputs": [
    {
     "name": "stdout",
     "output_type": "stream",
     "text": [
      "9.75\n"
     ]
    }
   ],
   "source": [
    "def average(*numbers):\n",
    "  # print(type(numbers))               #it will take the argument(numbers) as a tuple\n",
    "  sum = 0\n",
    "  for i in numbers:\n",
    "    sum = sum + i \n",
    "  # print(\"Average is: \", sum / len(numbers))    {without return}\n",
    "  # return 7\n",
    "  return sum / len(numbers)                    # {with return} {alway the 1st return considered rest after it are ignored}\n",
    "\n",
    "c=average(5,8,12,14)\n",
    "print(c)"
   ]
  },
  {
   "cell_type": "markdown",
   "metadata": {},
   "source": [
    " ##### *b) Keyword Arbitrary Arguments:*\n",
    " ##### While creating a function, pass a ** before the parameter name while defining the function. The function accesses the arguments by processing them in the form of dictionary.\n",
    " "
   ]
  },
  {
   "cell_type": "code",
   "execution_count": 4,
   "metadata": {},
   "outputs": [
    {
     "name": "stdout",
     "output_type": "stream",
     "text": [
      "Hello, James Buchanan Barnes\n"
     ]
    }
   ],
   "source": [
    "def name(**name):\n",
    "    print(\"Hello,\", name[\"fname\"], name[\"mname\"], name[\"lname\"])\n",
    "\n",
    "name(mname = \"Buchanan\", lname = \"Barnes\", fname = \"James\")"
   ]
  },
  {
   "cell_type": "markdown",
   "metadata": {},
   "source": [
    "#### **Count the Frequency of Words Appearing in a String Using a Dictionary.**\n",
    "\n",
    "##### Find the count of occurence of any word in our string using python. This is what we are going to do in this section, count the number of word in a given string and print it.\n",
    "\n",
    "##### Lets suppose we have a ‘string’ and the ‘word’ and we need to find the count of occurence of this word in our string using python. This is what we are going to do in this section, count the number of word in a given string and print it.\n",
    "\n",
    "##### The first thing, we will do is define a function and and then create a list that will be empty initially.\n",
    "\n",
    "##### Next, we will add a code to convert the string to a list. Python string has a split() method. It takes a string and some separator to return a list.\n",
    "\n",
    "##### Now we will declare an empty dictionary.\n",
    "\n",
    "##### Next we will add code using for loop to iterate the words and value will will count the frequency of each words in the string and store them to the dictionary.\n",
    "\n",
    "##### Finally we will print the dictionary"
   ]
  },
  {
   "cell_type": "code",
   "execution_count": 5,
   "metadata": {},
   "outputs": [
    {
     "name": "stdout",
     "output_type": "stream",
     "text": [
      "The Frequency of words is: {'Mary': 6, 'had': 2, 'a': 2, 'little': 3, 'lamb': 3, 'Little': 1, 'lamb,': 1, 'lamb.Its': 1, 'fleece': 1, 'was': 2, 'white': 1, 'as': 1, 'snow': 1, 'And': 1, 'everywhere': 1, 'that': 2, 'went': 3, 'went,': 1, 'Everywhere': 1, 'The': 1, 'sure': 1, 'to': 1, 'go': 1}\n"
     ]
    }
   ],
   "source": [
    "# Python Program to Count words in a String using Dictionary\n",
    "def freq(string):\n",
    "    \n",
    "    #step1: A list variable is declared and initialized to an empty list.\n",
    "    words = []\n",
    "    \n",
    "    #step2: Break the string into list of words\n",
    "    words = string.split() # or string.lower().split()\n",
    "    \n",
    "    #step3: Declare a dictionary\n",
    "    Dict = {}\n",
    "    \n",
    "    #step4: Use for loop to iterate words and values to the dictionary\n",
    "    for key in words:\n",
    "        Dict[key] = words.count(key)\n",
    "        \n",
    "    #step5: Print the dictionary\n",
    "    print(\"The Frequency of words is:\",Dict)\n",
    "    \n",
    "#step6: Call function and pass string in it\n",
    "freq(\"Mary had a little lamb Little lamb, little lamb Mary had a little lamb.Its fleece was white as snow And everywhere that Mary went Mary went, Mary went \\\n",
    "Everywhere that Mary went The lamb was sure to go\")"
   ]
  },
  {
   "cell_type": "code",
   "execution_count": 6,
   "metadata": {},
   "outputs": [
    {
     "data": {
      "text/plain": [
       "1"
      ]
     },
     "execution_count": 6,
     "metadata": {},
     "output_type": "execute_result"
    }
   ],
   "source": [
    "len([sum([1,1,1])])"
   ]
  },
  {
   "cell_type": "markdown",
   "metadata": {},
   "source": [
    "#### Exception Handling\n",
    "##### for more refer the IBM notebook [C4_M3_ExcecptionHandling](./C4_M3_ExcecptionHandling.ipynb)"
   ]
  },
  {
   "cell_type": "code",
   "execution_count": 11,
   "metadata": {},
   "outputs": [
    {
     "name": "stdout",
     "output_type": "stream",
     "text": [
      "Error: Cannot divide by zero\n",
      "outside of try and except block\n"
     ]
    }
   ],
   "source": [
    "# using Try- except \n",
    "try:\n",
    "    # Attempting to divide 10 by 0\n",
    "    result = 10 / 0\n",
    "except ZeroDivisionError:\n",
    "    # Handling the ZeroDivisionError and printing an error message\n",
    "    print(\"Error: Cannot divide by zero\")\n",
    "# This line will be executed regardless of whether an exception occurred\n",
    "print(\"outside of try and except block\")"
   ]
  },
  {
   "cell_type": "markdown",
   "metadata": {},
   "source": [
    "#### Classes and Objects\n",
    "#### For more refer to the IBM notebook [C4_M3_Classes_objects](./C4_M3_Classes_objects.ipynb)\n"
   ]
  },
  {
   "cell_type": "code",
   "execution_count": 13,
   "metadata": {},
   "outputs": [],
   "source": [
    "# Import the library\n",
    "\n",
    "import matplotlib.pyplot as plt\n",
    "%matplotlib inline  \n"
   ]
  },
  {
   "cell_type": "code",
   "execution_count": 5,
   "metadata": {},
   "outputs": [],
   "source": [
    "\n",
    "# Create a class Circle\n",
    "\n",
    "class Circle(object):\n",
    "    \n",
    "    # Constructor\n",
    "    def __init__(self, radius=3, color='blue'):\n",
    "        self.radius = radius\n",
    "        self.color = color \n",
    "    \n",
    "    # Method\n",
    "    def add_radius(self, r):\n",
    "        self.radius = self.radius + r\n",
    "        return(self.radius)\n",
    "    \n",
    "    # Method\n",
    "    def drawCircle(self):\n",
    "        plt.gca().add_patch(plt.Circle((0, 0), radius=self.radius, fc=self.color))\n",
    "        plt.axis('scaled')\n",
    "        plt.show()"
   ]
  },
  {
   "cell_type": "code",
   "execution_count": 21,
   "metadata": {},
   "outputs": [
    {
     "name": "stdout",
     "output_type": "stream",
     "text": [
      "Radius of object: 10\n",
      "Radius of object of after applying the method add_radius(2): 12\n",
      "Radius of object of after applying the method add_radius(5): 17\n"
     ]
    }
   ],
   "source": [
    "redcircle=Circle(10,'red')\n",
    "# dir(redcircle)\n",
    "# redcircle.radius\n",
    "# redcircle.color\n",
    "print('Radius of object:',redcircle.radius)\n",
    "redcircle.add_radius(2)\n",
    "print('Radius of object of after applying the method add_radius(2):',redcircle.radius)\n",
    "redcircle.add_radius(5)\n",
    "print('Radius of object of after applying the method add_radius(5):',redcircle.radius)"
   ]
  },
  {
   "cell_type": "code",
   "execution_count": 27,
   "metadata": {},
   "outputs": [
    {
     "data": {
      "image/png": "[encoded data removed]",
      "text/plain": [
       "<Figure size 640x480 with 1 Axes>"
      ]
     },
     "metadata": {},
     "output_type": "display_data"
    }
   ],
   "source": [
    "redcircle.radius=18\n",
    "\n",
    "redcircle.drawCircle()"
   ]
  },
  {
   "cell_type": "code",
   "execution_count": 28,
   "metadata": {},
   "outputs": [],
   "source": [
    "class Rectangle():\n",
    "    #Constructor\n",
    "    def __init__(self, length=2, breadth=3, color='yellow'):\n",
    "        self.length=length\n",
    "        self.breadth=breadth\n",
    "        self.color=color\n",
    "    \n",
    "    #method\n",
    "    def drawRectangle(self):\n",
    "        plt.gca().add_patch(plt.Rectangle((0, 0), self.length, self.breadth ,fc=self.color))\n",
    "        plt.axis('scaled')\n",
    "        plt.show()\n",
    "        "
   ]
  },
  {
   "cell_type": "code",
   "execution_count": 29,
   "metadata": {},
   "outputs": [
    {
     "data": {
      "image/png": "[encoded data removed]",
      "text/plain": [
       "<Figure size 640x480 with 1 Axes>"
      ]
     },
     "metadata": {},
     "output_type": "display_data"
    }
   ],
   "source": [
    "yelrec=Rectangle()\n",
    "yelrec.drawRectangle()"
   ]
  },
  {
   "cell_type": "markdown",
   "metadata": {},
   "source": [
    "#### Practice lab for text analysis\n",
    "#### refer [C4_M3_Practice lab](./C4_M3_Practicelab.ipynb)"
   ]
  },
  {
   "cell_type": "code",
   "execution_count": 33,
   "metadata": {},
   "outputs": [
    {
     "name": "stdout",
     "output_type": "stream",
     "text": [
      "2\n"
     ]
    }
   ],
   "source": [
    "a = 1 \n",
    "\n",
    "\n",
    "def do(x): \n",
    "    return x + a \n",
    "\n",
    "\n",
    "print(do(1))\n"
   ]
  },
  {
   "cell_type": "markdown",
   "metadata": {},
   "source": [
    "#### ReadFile.\n",
    "\n",
    "#### refer [C4_M4_ReadFile](./C4_M4_ReadFile.ipynb) for the IBM notebook"
   ]
  },
  {
   "cell_type": "code",
   "execution_count": 2,
   "metadata": {},
   "outputs": [
    {
     "name": "stderr",
     "output_type": "stream",
     "text": [
      "'wget' is not recognized as an internal or external command,\n",
      "operable program or batch file.\n"
     ]
    }
   ],
   "source": [
    "# Uncomment these if working locally, else let the following code cell run.\n",
    "\n",
    "import urllib.request\n",
    "url = 'https://cf-courses-data.s3.us.cloud-object-storage.appdomain.cloud/IBMDeveloperSkillsNetwork-PY0101EN-SkillsNetwork/labs/Module%204/data/example1.txt'\n",
    "filename = 'Example1.txt'\n",
    "urllib.request.urlretrieve(url, filename)\n",
    "\n",
    "# Download Example file\n",
    "!wget Example1.txt https://cf-courses-data.s3.us.cloud-object-storage.appdomain.cloud/IBMDeveloperSkillsNetwork-PY0101EN-SkillsNetwork/labs/Module%204/data/example1.txt"
   ]
  },
  {
   "cell_type": "code",
   "execution_count": 3,
   "metadata": {},
   "outputs": [],
   "source": [
    "example1='Example1.txt'\n",
    "file1=open(example1,\"r\")"
   ]
  },
  {
   "cell_type": "code",
   "execution_count": 4,
   "metadata": {},
   "outputs": [
    {
     "name": "stdout",
     "output_type": "stream",
     "text": [
      "This is line 1 \n",
      "This is line 2\n",
      "This is line 3\n"
     ]
    }
   ],
   "source": [
    "# Open file using with\n",
    "\n",
    "with open(example1, \"r\") as file1:\n",
    "    FileContent = file1.read()\n",
    "    print(FileContent)"
   ]
  },
  {
   "cell_type": "markdown",
   "metadata": {},
   "source": [
    "#### WriteFile\n",
    "\n",
    "#### for more refer to the IBM notebook [C4_M4_WriteFile](./C4_M4_WriteFile.ipynb)"
   ]
  },
  {
   "cell_type": "code",
   "execution_count": 12,
   "metadata": {},
   "outputs": [],
   "source": [
    "# Write line to file\n",
    "exmp2 = 'Example2.txt'\n",
    "with open(exmp2, 'w') as writefile:\n",
    "    writefile.write(\"This is line A\")\n",
    "\n"
   ]
  },
  {
   "cell_type": "code",
   "execution_count": 13,
   "metadata": {},
   "outputs": [
    {
     "name": "stdout",
     "output_type": "stream",
     "text": [
      "This is line A\n"
     ]
    }
   ],
   "source": [
    "# Read file\n",
    "\n",
    "with open(exmp2, 'r') as testwritefile:\n",
    "    print(testwritefile.read())"
   ]
  },
  {
   "cell_type": "code",
   "execution_count": 14,
   "metadata": {},
   "outputs": [],
   "source": [
    "# write multiple lines\n",
    "\n",
    "with open(exmp2,\"w\") as writefile:\n",
    "    writefile.write(\"This is line B\\n\")\n",
    "    writefile.write(\"This is line C\\n\")\n",
    "\n",
    "\n",
    "    "
   ]
  },
  {
   "cell_type": "code",
   "execution_count": 15,
   "metadata": {},
   "outputs": [
    {
     "name": "stdout",
     "output_type": "stream",
     "text": [
      "This is line B\n",
      "This is line C\n",
      "\n"
     ]
    }
   ],
   "source": [
    "with open(exmp2,\"r\") as testwritefile:\n",
    "    print(testwritefile.read())\n",
    "    "
   ]
  },
  {
   "cell_type": "code",
   "execution_count": 20,
   "metadata": {},
   "outputs": [
    {
     "name": "stdout",
     "output_type": "stream",
     "text": [
      "This is line A\n",
      "\n",
      "This is line B\n",
      "\n",
      "This is line C\n",
      "\n"
     ]
    }
   ],
   "source": [
    "# Sample list of text\n",
    "\n",
    "Lines = [\"This is line A\\n\", \"This is line B\\n\", \"This is line C\\n\"]\n",
    "\n",
    "# Write the strings in the list to text file\n",
    "\n",
    "with open('Example2.txt', 'w') as writefile:\n",
    "    for line in Lines:\n",
    "        print(line)\n",
    "        writefile.write(line)\n"
   ]
  },
  {
   "cell_type": "code",
   "execution_count": 21,
   "metadata": {},
   "outputs": [
    {
     "name": "stdout",
     "output_type": "stream",
     "text": [
      "This is line A\n",
      "This is line B\n",
      "This is line C\n",
      "\n"
     ]
    }
   ],
   "source": [
    "# verify if write happened\n",
    "\n",
    "with open(exmp2,\"r\") as testwritefile:\n",
    "    print(testwritefile.read())"
   ]
  },
  {
   "cell_type": "markdown",
   "metadata": {},
   "source": [
    "#### Appending Files"
   ]
  },
  {
   "cell_type": "code",
   "execution_count": 22,
   "metadata": {},
   "outputs": [],
   "source": [
    "with open(exmp2,\"a\") as writefile:\n",
    "    writefile.write(\"This is line D\\n\")\n",
    "    writefile.write(\"This is line E\\n\")\n",
    "    writefile.write(\"This is line F\\n\")\n",
    "        "
   ]
  },
  {
   "cell_type": "code",
   "execution_count": 23,
   "metadata": {},
   "outputs": [
    {
     "name": "stdout",
     "output_type": "stream",
     "text": [
      "This is line A\n",
      "This is line B\n",
      "This is line C\n",
      "This is line D\n",
      "This is line E\n",
      "This is line F\n",
      "\n"
     ]
    }
   ],
   "source": [
    "#verify if appended\n",
    "\n",
    "with open(exmp2,\"r\") as testwritefile:\n",
    "    print(testwritefile.read())\n",
    "\n"
   ]
  },
  {
   "cell_type": "code",
   "execution_count": 32,
   "metadata": {},
   "outputs": [
    {
     "name": "stdout",
     "output_type": "stream",
     "text": [
      "\n",
      "Initial location: 208\n"
     ]
    }
   ],
   "source": [
    "# a+ : append and read\n",
    "\n",
    "with open(exmp2,\"a+\") as testwritefile:\n",
    "    testwritefile.write(\"This is line E\\n\")\n",
    "    print(testwritefile.read())\n",
    "    print(\"Initial location: {}\".format(testwritefile.tell()))   # f string use\n"
   ]
  },
  {
   "cell_type": "code",
   "execution_count": 34,
   "metadata": {},
   "outputs": [
    {
     "name": "stdout",
     "output_type": "stream",
     "text": [
      "yo\n"
     ]
    }
   ],
   "source": [
    "new=\"demo.txt\"\n",
    "with open(new,\"w\") as demowrite:\n",
    "    demowrite.write(\"yo\")\n",
    "\n",
    "with open(new,\"r\") as demotest:\n",
    "    print(demotest.read())\n",
    "    "
   ]
  },
  {
   "cell_type": "markdown",
   "metadata": {},
   "source": [
    "#### copy a file"
   ]
  },
  {
   "cell_type": "code",
   "execution_count": 35,
   "metadata": {},
   "outputs": [],
   "source": [
    "with open(exmp2,\"r\") as readfile:\n",
    "    with open(\"Example3.txt\",\"w\") as writefile:\n",
    "        for line in readfile:\n",
    "            writefile.write(line)\n",
    "            "
   ]
  },
  {
   "cell_type": "markdown",
   "metadata": {},
   "source": [
    "### Pandas\n",
    "\n",
    "#### for more refer to the IBM notebook [C4_M4_Pandas](./C4_M4_Pandas.ipynb)\n",
    "\n",
    "#### for \"data loading with Pandas\", refer to - [C4_M4_Pandas_LoadData](./C4_M4_Pandas_LoadData.ipynb)"
   ]
  },
  {
   "cell_type": "markdown",
   "metadata": {},
   "source": [
    "### Numpy\n",
    "\n",
    "#### for more refer to the IBM Notebook [C4_M4_Numpy_1D](./C4_M4_Numpy_1D.ipynb)"
   ]
  },
  {
   "cell_type": "markdown",
   "metadata": {},
   "source": [
    "#### for 2D Numpy, refer to [C4_M4_Numpy_2D](./C4_M4_Numpy_2D.ipynb)"
   ]
  },
  {
   "cell_type": "code",
   "execution_count": 2,
   "metadata": {},
   "outputs": [],
   "source": [
    "import numpy as np"
   ]
  },
  {
   "cell_type": "markdown",
   "metadata": {},
   "source": [
    "### Simple API\n",
    "\n",
    "#### for the \"intro to API\", refer to [C4_M5_Intro_API](./C4_M5_Intro_API.ipynb)"
   ]
  },
  {
   "cell_type": "markdown",
   "metadata": {},
   "source": [
    "### GDP Extraction Practice project\n",
    "\n",
    "#### refer to the notebook [C4_Practice_Project_GDP_Data_extraction](./C4_Practice_Project_GDP_Data_extraction.ipynb)"
   ]
  },
  {
   "cell_type": "markdown",
   "metadata": {},
   "source": [
    "### REST API\n",
    "\n",
    "#### refer to the notebook [C4_M5_Requests_HTTP](./C4_M5_Requests_HTTP.ipynb)"
   ]
  },
  {
   "cell_type": "markdown",
   "metadata": {},
   "source": [
    "### API EXAMPLES\n",
    "\n",
    "#### refer [C4_M5_API_examples](./C4_M5_API_examples.ipynb)"
   ]
  },
  {
   "cell_type": "markdown",
   "metadata": {},
   "source": [
    "### Web Scraping\n",
    "\n",
    "#### refer to the notebook [C4_M5_Web-Scraping](./C4_M5_Web-Scraping.ipynb)"
   ]
  },
  {
   "cell_type": "markdown",
   "metadata": {},
   "source": [
    "### Different platforms\n",
    "\n",
    "#### refer to the notebook [C4_M5_WorkingWithDifferent](./C4_M5_WorkingWithDifferent.ipynb)"
   ]
  },
  {
   "cell_type": "markdown",
   "metadata": {},
   "source": [
    "## Course 5 Python Data Science Project"
   ]
  },
  {
   "cell_type": "markdown",
   "metadata": {},
   "source": [
    "#### for the Extraction of Stock Data refer to the notebook [C5_Extraction_Stock_Data](./C5_Extraction_Stock_Data.ipynb)\n",
    "\n",
    "\n",
    "#### for the Extraction of Stock Data refer to the notebook [C5_Extraction_Stock_Data_web_scraping](./C5_Extraction_Stock_Data_web_scraping.ipynb)"
   ]
  }
 ],
 "metadata": {
  "kernelspec": {
   "display_name": "Python 3",
   "language": "python",
   "name": "python3"
  },
  "language_info": {
   "codemirror_mode": {
    "name": "ipython",
    "version": 3
   },
   "file_extension": ".py",
   "mimetype": "text/x-python",
   "name": "python",
   "nbconvert_exporter": "python",
   "pygments_lexer": "ipython3",
   "version": "3.12.3"
  }
 },
 "nbformat": 4,
 "nbformat_minor": 2
}
