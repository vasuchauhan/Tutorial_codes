{
 "cells": [
  {
   "cell_type": "markdown",
   "id": "f0ae1f4b-662d-45fa-b0b9-e440ead3d626",
   "metadata": {},
   "source": [
    "<h1> HTTP and Requests</h1>\n",
    "\n",
    "Estimated time needed: **30** minutes\n",
    "\n",
    "## Objectives\n",
    "\n",
    "After completing this lab you will be able to:\n",
    "\n",
    "*   Understand HTTP\n",
    "*   Handle HTTP Requests\n"
   ]
  },
  {
   "cell_type": "markdown",
   "id": "1a823f41-5d0a-4d3a-a712-b1a7dbca1153",
   "metadata": {},
   "source": [
    "<h2>Table of Contents</h2>\n",
    "\n",
    "<div class=\"alert alert-block alert-info\" style=\"margin-top: 20px\">\n",
    "    <ul>\n",
    "        <li>\n",
    "            <a href=\"#Overview-of-HTTP\">Overview of HTTP </a>\n",
    "            <ul>\n",
    "                <li><a href=\"#Uniform-Resource-Locator:URL\">Uniform Resource Locator:URL</a></li>\n",
    "                 <li><a href=\"#Request\">Request</a></li>\n",
    "                <li><a href=\"#Response\">Response</a></li>\n",
    "            </ul>\n",
    "        </li>\n",
    "        <li>\n",
    "            <a href=\"#Requests-in-Python\">Requests in Python  </a>\n",
    "            <ul>\n",
    "                <li><a href=\"#Get-Request-with-URL-Parameters\">Get Request with URL Parameters</a></li>\n",
    "                <li><a href=\"#Post-Requests\">Post Requests </a></li>\n",
    "\n",
    "</ul>\n",
    "\n",
    "</div>\n",
    "\n",
    "<hr>\n"
   ]
  },
  {
   "cell_type": "markdown",
   "id": "c5a2ef40-c50d-4e87-b558-e2ec95914153",
   "metadata": {},
   "source": [
    "## Overview of HTTP\n"
   ]
  },
  {
   "cell_type": "markdown",
   "id": "0d253c39-2eea-44fe-be54-ca162598aec6",
   "metadata": {},
   "source": [
    "When you, the **client**, use a web page your browser sends an **HTTP** request to the **server** where the page is hosted. The server tries to find the desired **resource** by default \"<code>index.html</code>\". If your request is successful, the server will send the object to the client in an **HTTP response**. This includes information like the type of the **resource**, the length of the **resource**, and other information.\n",
    "\n",
    "<p>\n",
    "The figure below represents the process. The circle on the left represents the client, the circle on the right represents the Web server. The table under the Web server represents a list of resources stored in the web server. In  this case an <code>HTML</code> file, <code>png</code> image, and <code>txt</code> file .\n",
    "</p>\n",
    "<p>\n",
    "The <b>HTTP</b> protocol allows you to send and receive information through the web including webpages, images, and other web resources. In this lab, we will provide an overview of the Requests library for interacting with the <code>HTTP</code> protocol. \n",
    "</p\n"
   ]
  },
  {
   "cell_type": "markdown",
   "id": "5a430899-77ac-4fee-814e-3182083c35e5",
   "metadata": {},
   "source": [
    "<div class=\"alert alert-block alert-info\" style=\"margin-top: 20px\">\n",
    "         <img src=\"https://cf-courses-data.s3.us.cloud-object-storage.appdomain.cloud/IBMDeveloperSkillsNetwork-PY0101EN-SkillsNetwork/labs/Module%205/images/reqest_basics.png\" width=\"750\" align=\"center\">\n",
    "\n",
    "</div>\n"
   ]
  },
  {
   "cell_type": "markdown",
   "id": "38f6e1f9-9e48-492b-b0cb-16537df6b34a",
   "metadata": {},
   "source": [
    "## Uniform Resource Locator:URL\n"
   ]
  },
  {
   "cell_type": "markdown",
   "id": "358e51d6-4302-4cd8-962c-b064b937f310",
   "metadata": {},
   "source": [
    "Uniform resource locator (URL) is the most popular way to find resources on the web.  We can break the URL into three parts.\n",
    "\n",
    "<ul>\n",
    "    <li><b>Scheme</b>:- This is this protocol, for this lab it will always be <code>http://</code>  </li>\n",
    "    <li><b> Internet address or  Base URL </b>:- This will be used to find the location here are some examples: <code>www.ibm.com</code> and  <code> www.gitlab.com </code> </li>\n",
    "    <li><b>Route</b>:- Location on the web server for example: <code>/images/IDSNlogo.png</code> </li>\n",
    "</ul>\n"
   ]
  },
  {
   "cell_type": "markdown",
   "id": "c6bc5889-f86e-41f7-9681-a96140884c0f",
   "metadata": {},
   "source": [
    "You may also hear the term Uniform Resource Identifier (URI), URL are actually a subset of URIs. Another popular term is endpoint, this is the URL of an operation provided by a Web server.\n"
   ]
  },
  {
   "cell_type": "markdown",
   "id": "30370358-9996-4972-9d07-37ccb5b7c3aa",
   "metadata": {},
   "source": [
    "## Request\n"
   ]
  },
  {
   "cell_type": "markdown",
   "id": "f3ff1592-fe1f-496f-b39e-6441a989f961",
   "metadata": {},
   "source": [
    "The process can be broken into the <b>Request</b> and <b>Response </b> process.  The request using the get method is partially illustrated below. In the start line we have the <code>GET</code> method, this is an <code>HTTP</code> method. Also the location of the resource  <code>/index.html</code> and the <code>HTTP</code> version. The Request header passes additional information with an <code>HTTP</code> request:\n"
   ]
  },
  {
   "cell_type": "markdown",
   "id": "97db08ac-40e7-4491-bd36-ad9614aac4fe",
   "metadata": {},
   "source": [
    "<div class=\"alert alert-block alert-info\" style=\"margin-top: 20px\">\n",
    "         <img src=\"https://cf-courses-data.s3.us.cloud-object-storage.appdomain.cloud/IBMDeveloperSkillsNetwork-PY0101EN-SkillsNetwork/labs/Module%205/images/reqest_messege.png\" width=\"400\" align=\"center\">\n",
    "</div>\n"
   ]
  },
  {
   "cell_type": "markdown",
   "id": "7e57724f-0f59-4666-9a33-deddaf96e42c",
   "metadata": {},
   "source": [
    "When an <code>HTTP</code> request is made, an <code>HTTP</code> method is sent, this tells the server what action to perform.  A list of several <code>HTTP</code> methods is shown below. We will go over more examples later.\n"
   ]
  },
  {
   "cell_type": "markdown",
   "id": "299b6672-2606-455b-bde4-def9701b90b5",
   "metadata": {},
   "source": [
    "<div class=\"alert alert-block alert-info\" style=\"margin-top: 20px\">\n",
    "         <img src=\"https://cf-courses-data.s3.us.cloud-object-storage.appdomain.cloud/IBMDeveloperSkillsNetwork-PY0101EN-SkillsNetwork/labs/Module%205/images/http_methods.png\" width=\"400\" align=\"center\">\n",
    "</div>\n"
   ]
  },
  {
   "cell_type": "markdown",
   "id": "098ba13e-f804-4d8c-94cc-ce316db7155d",
   "metadata": {},
   "source": [
    "## Response\n"
   ]
  },
  {
   "cell_type": "markdown",
   "id": "9a537f42-a4e1-4bb8-b07b-d0e5e901d062",
   "metadata": {},
   "source": [
    "The figure below represents the response; the response start line contains the version number <code>HTTP/1.0</code>, a status code (200) meaning success, followed by a descriptive phrase (OK). The response header contains useful information. Finally, we have the response body containing the requested file, an <code> HTML </code> document.  It should be noted that some requests have headers.\n"
   ]
  },
  {
   "cell_type": "markdown",
   "id": "28689294-550e-4242-bff7-32a740e2c7b7",
   "metadata": {},
   "source": [
    "<div class=\"alert alert-block alert-info\" style=\"margin-top: 20px\">\n",
    "         <img src=\"https://cf-courses-data.s3.us.cloud-object-storage.appdomain.cloud/IBMDeveloperSkillsNetwork-PY0101EN-SkillsNetwork/labs/Module%205/images/response_message.png\" width=\"400\" align=\"center\">\n",
    "</div>\n"
   ]
  },
  {
   "cell_type": "markdown",
   "id": "e06ddfc8-b459-4ce7-92dc-cfb2ec673798",
   "metadata": {},
   "source": [
    "Some status code examples are shown in the table below, the prefix indicates the class. These are shown in yellow, with actual status codes shown in  white. Check out the following <a href=\"https://developer.mozilla.org/en-US/docs/Web/HTTP/Status?utm_medium=Exinfluencer&utm_source=Exinfluencer&utm_content=000026UJ&utm_term=10006555&utm_id=NA-SkillsNetwork-Channel-SkillsNetworkCoursesIBMDeveloperSkillsNetworkPY0101ENSkillsNetwork19487395-2021-01-01\">link </a> for more descriptions.\n"
   ]
  },
  {
   "cell_type": "markdown",
   "id": "c8d0e35f-82e9-4aea-bcf2-c68753b7760f",
   "metadata": {},
   "source": [
    "<div class=\"alert alert-block alert-info\" style=\"margin-top: 20px\">\n",
    "         <img src=\"https://cf-courses-data.s3.us.cloud-object-storage.appdomain.cloud/IBMDeveloperSkillsNetwork-PY0101EN-SkillsNetwork/labs/Module%205/images/status_code.png\" width=\"300\" align=\"center\">\n",
    "</div>\n"
   ]
  },
  {
   "cell_type": "markdown",
   "id": "e7ca81bb-b5ef-47e8-846d-fc1f8ac74dd7",
   "metadata": {},
   "source": [
    "## Requests in Python\n"
   ]
  },
  {
   "cell_type": "markdown",
   "id": "53162d6e-3992-40c9-b8ed-7d576d257eec",
   "metadata": {},
   "source": [
    "Requests is a Python Library that allows you to send <code>HTTP/1.1</code> requests easily. We can import the library as follows:\n"
   ]
  },
  {
   "cell_type": "code",
   "execution_count": null,
   "id": "dbf2d00d-887a-4d85-8ed0-243dc0bed5fd",
   "metadata": {},
   "outputs": [],
   "source": [
    "import requests"
   ]
  },
  {
   "cell_type": "markdown",
   "id": "dd324271-c305-4b67-b46d-5f814d2a798a",
   "metadata": {},
   "source": [
    "We will also use the following libraries:\n"
   ]
  },
  {
   "cell_type": "code",
   "execution_count": null,
   "id": "960090ac-6f76-47cc-8901-103b59e2ace5",
   "metadata": {},
   "outputs": [],
   "source": [
    "import os \n",
    "from PIL import Image\n",
    "from IPython.display import IFrame"
   ]
  },
  {
   "cell_type": "markdown",
   "id": "f3fe49d0-8713-4620-b7e9-c64854d3576f",
   "metadata": {},
   "source": [
    "You can make a <code>GET</code> request via the method <code>get</code> to [www.ibm.com](http://www.ibm.com/?utm_source=Exinfluencer&utm_content=000026UJ&utm_id=NA-SkillsNetwork-Channel-SkillsNetworkCoursesIBMDeveloperSkillsNetworkPY0101ENSkillsNetwork19487395-2021-01-01&utm_medium=Exinfluencer&utm_term=10006555):\n"
   ]
  },
  {
   "cell_type": "code",
   "execution_count": null,
   "id": "aab4a2de-031c-44df-86c3-132ead2f1e02",
   "metadata": {},
   "outputs": [],
   "source": [
    "\n",
    "url='https://www.ibm.com/'\n",
    "r=requests.get(url)\n"
   ]
  },
  {
   "cell_type": "markdown",
   "id": "71d04f51-2b73-47b8-bba1-0d1ead26c0f2",
   "metadata": {},
   "source": [
    "We have the response object <code>r</code>, this has information about the request, like the status of the request. We can view the status code using the attribute <code>status_code</code>.\n"
   ]
  },
  {
   "cell_type": "code",
   "execution_count": null,
   "id": "5650228a-6e73-45df-b4cb-cc4728d13204",
   "metadata": {},
   "outputs": [],
   "source": [
    "r.status_code"
   ]
  },
  {
   "cell_type": "markdown",
   "id": "126eada8-1021-4d29-80d4-6ce722171cf8",
   "metadata": {},
   "source": [
    "You can view the request headers:\n"
   ]
  },
  {
   "cell_type": "code",
   "execution_count": null,
   "id": "e6076897-058b-4662-9883-32f97d5cded1",
   "metadata": {},
   "outputs": [],
   "source": [
    "print(r.request.headers)"
   ]
  },
  {
   "cell_type": "markdown",
   "id": "9b5d6691-2c4f-4df3-81d0-de056640d8bd",
   "metadata": {},
   "source": [
    "You can view the request body, in the following line, as there is no body for a get request we get a <code>None</code>:\n"
   ]
  },
  {
   "cell_type": "code",
   "execution_count": null,
   "id": "b0b24e2e-160e-490a-ae03-5b3ca2cd557a",
   "metadata": {},
   "outputs": [],
   "source": [
    "print(\"request body:\", r.request.body)"
   ]
  },
  {
   "cell_type": "markdown",
   "id": "75726bab-7dde-4817-be4e-8da18f66ca64",
   "metadata": {},
   "source": [
    "You can view the <code>HTTP</code> response header using the attribute <code>headers</code>. This returns a python dictionary of <code>HTTP</code> response headers.\n"
   ]
  },
  {
   "cell_type": "code",
   "execution_count": null,
   "id": "40ffa3b2-87dc-42cd-bdac-661f51216fe7",
   "metadata": {},
   "outputs": [],
   "source": [
    "header=r.headers\n",
    "print(r.headers)"
   ]
  },
  {
   "cell_type": "markdown",
   "id": "5271b7c8-fac5-4211-8100-7d27d17e384f",
   "metadata": {},
   "source": [
    "We can obtain the date the request was sent using the key <code>Date</code>.\n"
   ]
  },
  {
   "cell_type": "code",
   "execution_count": null,
   "id": "224be7f4-ab4d-47ca-87ce-504cc790a246",
   "metadata": {},
   "outputs": [],
   "source": [
    "header['date']"
   ]
  },
  {
   "cell_type": "markdown",
   "id": "2fb2405c-887d-4335-9336-81bb809f1d0c",
   "metadata": {},
   "source": [
    "<code>Content-Type</code> indicates the type of data:\n"
   ]
  },
  {
   "cell_type": "code",
   "execution_count": null,
   "id": "ec9ea4e5-956a-45c3-b9a6-6f13a24325dd",
   "metadata": {},
   "outputs": [],
   "source": [
    "header['Content-Type']"
   ]
  },
  {
   "cell_type": "markdown",
   "id": "4bece28b-5fb2-4928-85a3-868fb8b208e4",
   "metadata": {},
   "source": [
    "You can also check the <code>encoding</code>:\n"
   ]
  },
  {
   "cell_type": "code",
   "execution_count": null,
   "id": "3d298684-dece-4dc8-b608-3766689ab696",
   "metadata": {},
   "outputs": [],
   "source": [
    " r.encoding"
   ]
  },
  {
   "cell_type": "markdown",
   "id": "ccd46948-0df0-44ba-8026-09811992a663",
   "metadata": {},
   "source": [
    "As the <code>Content-Type</code> is <code>text/html</code> we can use the attribute <code>text</code> to display the <code>HTML</code> in the body. We can review the first 100 characters:\n"
   ]
  },
  {
   "cell_type": "code",
   "execution_count": null,
   "id": "18d8cd95-5a90-4659-9de7-55de6e5d56f9",
   "metadata": {},
   "outputs": [],
   "source": [
    "r.text[0:100]"
   ]
  },
  {
   "cell_type": "markdown",
   "id": "54c29983-cd05-4741-9918-172b82116e91",
   "metadata": {},
   "source": [
    "You can load other types of data for non-text requests, like images. Consider the URL of the following image:\n"
   ]
  },
  {
   "cell_type": "code",
   "execution_count": null,
   "id": "507eff5c-ea29-407c-8c24-2e6b6d1a0009",
   "metadata": {},
   "outputs": [],
   "source": [
    "# Use single quotation marks for defining string\n",
    "url='https://cf-courses-data.s3.us.cloud-object-storage.appdomain.cloud/IBMDeveloperSkillsNetwork-PY0101EN-SkillsNetwork/IDSNlogo.png'"
   ]
  },
  {
   "cell_type": "markdown",
   "id": "56c3017b-679d-45ff-861e-d143d2251afa",
   "metadata": {},
   "source": [
    "We can make a get request:\n"
   ]
  },
  {
   "cell_type": "code",
   "execution_count": null,
   "id": "94f94baf-3241-49d1-b438-465f46de4abc",
   "metadata": {},
   "outputs": [],
   "source": [
    "r=requests.get(url)"
   ]
  },
  {
   "cell_type": "markdown",
   "id": "3dcfdc9c-6a11-44c1-83bf-a179c37ba064",
   "metadata": {},
   "source": [
    "We can look at the response header:\n"
   ]
  },
  {
   "cell_type": "code",
   "execution_count": null,
   "id": "7f676f04-9160-4b57-9df4-2aebb239389f",
   "metadata": {},
   "outputs": [],
   "source": [
    "print(r.headers)"
   ]
  },
  {
   "cell_type": "markdown",
   "id": "aff9a7a3-90af-43e2-89d2-e61667fbcf96",
   "metadata": {},
   "source": [
    "We can see the <code>'Content-Type'</code>\n"
   ]
  },
  {
   "cell_type": "code",
   "execution_count": null,
   "id": "0f2e273c-ca0a-4bcd-ac05-990fbe7b0711",
   "metadata": {},
   "outputs": [],
   "source": [
    "r.headers['Content-Type']"
   ]
  },
  {
   "cell_type": "markdown",
   "id": "95110669-72eb-4481-a630-b89df65a3ed1",
   "metadata": {},
   "source": [
    "An image is a response object that contains the image as a <a href=\"https://docs.python.org/3/glossary.html?utm_medium=Exinfluencer&utm_source=Exinfluencer&utm_content=000026UJ&utm_term=10006555&utm_id=NA-SkillsNetwork-Channel-SkillsNetworkCoursesIBMDeveloperSkillsNetworkPY0101ENSkillsNetwork19487395-2021-01-01#term-bytes-like-object\">bytes-like object</a>. As a result, we must save it using a file object. First, we specify the <u>file path and\n",
    "name</u>\n"
   ]
  },
  {
   "cell_type": "code",
   "execution_count": null,
   "id": "d8056a21-4f56-4ea4-b94e-2e1b0c6b9b2c",
   "metadata": {},
   "outputs": [],
   "source": [
    "path=os.path.join(os.getcwd(),'image.png')"
   ]
  },
  {
   "cell_type": "markdown",
   "id": "5a3bd2a1-4852-455f-96d9-f1cb2a4c4451",
   "metadata": {},
   "source": [
    "We save the file, in order to access the body of the response we use the attribute <code>content</code> then save it using the <code>open</code> function and write <code>method</code>:\n"
   ]
  },
  {
   "cell_type": "code",
   "execution_count": null,
   "id": "15270e56-dab6-4f6f-8977-adb66e0ff544",
   "metadata": {},
   "outputs": [],
   "source": [
    "with open(path,'wb') as f:\n",
    "    f.write(r.content)"
   ]
  },
  {
   "cell_type": "markdown",
   "id": "b5cbb03c-11cb-4d74-8651-64d76f77789a",
   "metadata": {},
   "source": [
    "We can view the image:\n"
   ]
  },
  {
   "cell_type": "code",
   "execution_count": null,
   "id": "222d28a1-5563-49e2-a023-2039ab1ef124",
   "metadata": {},
   "outputs": [],
   "source": [
    "Image.open(path)"
   ]
  },
  {
   "cell_type": "markdown",
   "id": "32233f45-410d-4988-bf72-0a208ef5b49c",
   "metadata": {},
   "source": [
    "<h3>Question: Download a file </h3>\n"
   ]
  },
  {
   "cell_type": "markdown",
   "id": "85025ce0-5415-4edd-b278-2fd3eb2c71fa",
   "metadata": {},
   "source": [
    "Consider the following URL.\n"
   ]
  },
  {
   "cell_type": "markdown",
   "id": "5fbdd510-4b23-4154-9433-09468bdf0a36",
   "metadata": {},
   "source": [
    "<code>URL = <https://cf-courses-data.s3.us.cloud-object-storage.appdomain.cloud/IBMDeveloperSkillsNetwork-PY0101EN-SkillsNetwork/labs/Module%205/data/Example1.txt</code>\n"
   ]
  },
  {
   "cell_type": "markdown",
   "id": "23cd9fe9-0f14-4376-8113-f4472847df7b",
   "metadata": {},
   "source": [
    "Write the commands to download the txt file in the given link.\n"
   ]
  },
  {
   "cell_type": "code",
   "execution_count": null,
   "id": "2bac6d2f-055a-4568-98b7-8bf1f7797906",
   "metadata": {},
   "outputs": [],
   "source": []
  },
  {
   "cell_type": "markdown",
   "id": "e3368d29-2c5d-4505-b304-5f350361db58",
   "metadata": {},
   "source": [
    "<details><summary>Click here for the solution</summary>\n",
    "\n",
    "```python\n",
    "url='https://cf-courses-data.s3.us.cloud-object-storage.appdomain.cloud/IBMDeveloperSkillsNetwork-PY0101EN-SkillsNetwork/labs/Module%205/data/Example1.txt'\n",
    "path=os.path.join(os.getcwd(),'example1.txt')\n",
    "r=requests.get(url)\n",
    "with open(path,'wb') as f:\n",
    "    f.write(r.content)\n",
    "\n",
    "```\n",
    "\n",
    "</details>\n"
   ]
  },
  {
   "cell_type": "markdown",
   "id": "7051df5c-0798-4021-9039-28d6fc541ee4",
   "metadata": {},
   "source": [
    "## Get Request with URL Parameters\n"
   ]
  },
  {
   "cell_type": "markdown",
   "id": "1c7edb24-096b-4fb1-b1e0-48bd2a298896",
   "metadata": {},
   "source": [
    "You can use the <b>GET</b> method to modify the results of your query, for example retrieving data from an API. We send a <b>GET</b> request to the  server. Like before we have the <b>Base URL</b>, in the <b>Route</b> we append <code>/get</code>, this indicates we would like to preform a <code>GET</code> request. \n"
   ]
  },
  {
   "cell_type": "markdown",
   "id": "497701f2-1f6c-49e5-9009-3595c2ac9665",
   "metadata": {},
   "source": [
    "The Base URL is for <code>[http://httpbin.org/](http://httpbin.org/?utm_medium=Exinfluencer&utm_source=Exinfluencer&utm_content=000026UJ&utm_term=10006555&utm_id=NA-SkillsNetwork-Channel-SkillsNetworkCoursesIBMDeveloperSkillsNetworkPY0101ENSkillsNetwork19487395-2021-01-01)</code> is a simple HTTP Request & Response Service. The <code>URL</code> in Python is given by:\n"
   ]
  },
  {
   "cell_type": "code",
   "execution_count": null,
   "id": "71bcdbf6-4b4d-46cc-892d-44671d7a2ecc",
   "metadata": {},
   "outputs": [],
   "source": [
    "url_get='http://httpbin.org/get'"
   ]
  },
  {
   "cell_type": "markdown",
   "id": "8e772ee8-b320-4288-9e8a-947049c1ecd2",
   "metadata": {},
   "source": [
    "A <a href=\"https://en.wikipedia.org/wiki/Query_string?utm_medium=Exinfluencer&utm_source=Exinfluencer&utm_content=000026UJ&utm_term=10006555&utm_id=NA-SkillsNetwork-Channel-SkillsNetworkCoursesIBMDeveloperSkillsNetworkPY0101ENSkillsNetwork19487395-2021-01-01\">query string</a> is a part of a uniform resource locator (URL), this sends other information to the web server. The start of the query is a <code>?</code>, followed by a series of parameter and value pairs, as shown in the table below. The first parameter name is <code>name</code> and the value is <code>Joseph</code>. The second parameter name is <code>ID</code> and the Value is <code>123</code>. Each pair, parameter, and value is separated by an equals sign, <code>=</code>.\n",
    "The series of pairs is separated by the ampersand <code>&</code>.\n"
   ]
  },
  {
   "cell_type": "markdown",
   "id": "8882fdf1-dba8-436e-ae71-9bcbb26410fa",
   "metadata": {},
   "source": [
    "<div class=\"alert alert-block alert-info\" style=\"margin-top: 20px\">\n",
    "         <img src=\"https://cf-courses-data.s3.us.cloud-object-storage.appdomain.cloud/IBMDeveloperSkillsNetwork-PY0101EN-SkillsNetwork/labs/Module%205/images/query_string.png\" width=\"500\" align=\"center\">\n",
    "</div>\n"
   ]
  },
  {
   "cell_type": "markdown",
   "id": "94af76ed-f142-4abc-b016-5efd48390c12",
   "metadata": {},
   "source": [
    "To create a Query string, add a dictionary. The keys are the parameter names and the values are the value of the Query string.\n"
   ]
  },
  {
   "cell_type": "code",
   "execution_count": null,
   "id": "b5ca914b-18f5-4d35-841b-a2ce155370b9",
   "metadata": {},
   "outputs": [],
   "source": [
    "payload={\"name\":\"Joseph\",\"ID\":\"123\"}"
   ]
  },
  {
   "cell_type": "markdown",
   "id": "a43a6154-c573-4bac-b752-4cc0f39fd359",
   "metadata": {},
   "source": [
    "Then passing the dictionary <code>payload</code> to the <code>params</code> parameter of the <code> get()</code> function:\n"
   ]
  },
  {
   "cell_type": "code",
   "execution_count": null,
   "id": "f93f4ab6-57a3-4461-b02f-fda0eaf5073d",
   "metadata": {},
   "outputs": [],
   "source": [
    "r=requests.get(url_get,params=payload)"
   ]
  },
  {
   "cell_type": "markdown",
   "id": "04cfecad-f2e3-40a2-951a-066e2f1cdf41",
   "metadata": {},
   "source": [
    "We can print out the <code>URL</code> and see the name and values.\n"
   ]
  },
  {
   "cell_type": "code",
   "execution_count": null,
   "id": "cd81a0a8-3f03-449e-a18f-dd72b2feabbe",
   "metadata": {},
   "outputs": [],
   "source": [
    "r.url"
   ]
  },
  {
   "cell_type": "markdown",
   "id": "79c48ecb-ca55-4148-b6ac-f68df9ab5e76",
   "metadata": {},
   "source": [
    "There is no request body.\n"
   ]
  },
  {
   "cell_type": "code",
   "execution_count": null,
   "id": "8f126a77-11ae-4fba-b956-8f546e0e54ab",
   "metadata": {},
   "outputs": [],
   "source": [
    "print(\"request body:\", r.request.body)"
   ]
  },
  {
   "cell_type": "markdown",
   "id": "fa48c867-3453-44f9-bdab-d1c789f40149",
   "metadata": {},
   "source": [
    "We can print out the status code.\n"
   ]
  },
  {
   "cell_type": "code",
   "execution_count": null,
   "id": "fad9be20-4fe3-455e-b1fa-09ca5cb7d7df",
   "metadata": {},
   "outputs": [],
   "source": [
    "print(r.status_code)"
   ]
  },
  {
   "cell_type": "markdown",
   "id": "39f1e726-369c-405e-b442-fe4a32ff674e",
   "metadata": {},
   "source": [
    "We can view the response as text:\n"
   ]
  },
  {
   "cell_type": "code",
   "execution_count": null,
   "id": "92c562ff-584a-4180-9071-965b8fdb0a27",
   "metadata": {},
   "outputs": [],
   "source": [
    "print(r.text)"
   ]
  },
  {
   "cell_type": "markdown",
   "id": "75e37bfb-185f-441a-8073-e1b8b3b5eaa6",
   "metadata": {},
   "source": [
    "We can look at the <code>'Content-Type'</code>.\n"
   ]
  },
  {
   "cell_type": "code",
   "execution_count": null,
   "id": "9ab5fd00-155a-48fa-8d1c-8d3e0c5214ab",
   "metadata": {},
   "outputs": [],
   "source": [
    "r.headers['Content-Type']"
   ]
  },
  {
   "cell_type": "markdown",
   "id": "6dd84cd4-2bcd-4383-9961-93bea01621af",
   "metadata": {},
   "source": [
    "As the content <code>'Content-Type'</code> is in the <code>JSON</code> format we can use the method <code>json()</code>, it returns a Python <code>dict</code>:\n"
   ]
  },
  {
   "cell_type": "code",
   "execution_count": null,
   "id": "0c88adae-fc1a-4760-9f14-13dcd12b4fd1",
   "metadata": {},
   "outputs": [],
   "source": [
    "r.json()"
   ]
  },
  {
   "cell_type": "markdown",
   "id": "914bfcfb-077b-4ec1-a731-95079abceba9",
   "metadata": {},
   "source": [
    "The key <code>args</code> has the name and values:\n"
   ]
  },
  {
   "cell_type": "code",
   "execution_count": null,
   "id": "6448f6d1-1fb6-4681-a383-8f3acb9014d0",
   "metadata": {},
   "outputs": [],
   "source": [
    "r.json()['args']"
   ]
  },
  {
   "cell_type": "markdown",
   "id": "358a4a53-0df2-45df-a7a8-1330b8b17b3c",
   "metadata": {},
   "source": [
    "## Post Requests\n"
   ]
  },
  {
   "cell_type": "markdown",
   "id": "72a65b45-ef4d-48d7-8e99-732625227552",
   "metadata": {},
   "source": [
    "Like a <code>GET</code> request, a <code>POST</code> is used to send data to a server, but the <code>POST</code> request sends the data in a request body. In order to send the Post Request in Python, in the <code>URL</code> we change the route to <code>POST</code>:\n"
   ]
  },
  {
   "cell_type": "code",
   "execution_count": null,
   "id": "fe3ee8a8-c4f7-47d1-b5a6-39eedfb7adb0",
   "metadata": {},
   "outputs": [],
   "source": [
    "url_post='http://httpbin.org/post'"
   ]
  },
  {
   "cell_type": "markdown",
   "id": "2338e886-e265-4c0b-821f-0b3a126946b0",
   "metadata": {},
   "source": [
    "This endpoint will expect data as a file or as a form. A form is convenient way to configure an HTTP request to send data to a server.\n"
   ]
  },
  {
   "cell_type": "markdown",
   "id": "5d91acb3-9dde-4dbf-906a-ac3bc0c2f370",
   "metadata": {},
   "source": [
    "To make a <code>POST</code> request we use the <code>post()</code> function, the variable <code>payload</code> is passed to the parameter <code> data </code>:\n"
   ]
  },
  {
   "cell_type": "code",
   "execution_count": null,
   "id": "65530db9-af93-4977-83b0-84085b118cec",
   "metadata": {},
   "outputs": [],
   "source": [
    "r_post=requests.post(url_post,data=payload)"
   ]
  },
  {
   "cell_type": "markdown",
   "id": "3cdd77ef-baa6-4ea9-8f52-9a0bd96a7def",
   "metadata": {},
   "source": [
    "Comparing the URL from the response object of the <code>GET</code> and <code>POST</code> request we see the <code>POST</code> request has no name or value pairs.\n"
   ]
  },
  {
   "cell_type": "code",
   "execution_count": null,
   "id": "cca8bdc1-9ab5-4cdd-9ceb-1168004a42ea",
   "metadata": {},
   "outputs": [],
   "source": [
    "#print(\"POST request URL:\",response.url )\n",
    "#print(\"GET request URL:\",r.url)\n",
    "print(\"POST request URL:\", r_post.url)  # Use r_post instead of response"
   ]
  },
  {
   "cell_type": "markdown",
   "id": "bebd0d5b-740a-4693-8a74-5382bfd8b702",
   "metadata": {},
   "source": [
    "We can compare the <code>POST</code> and <code>GET</code> request body, we see only the <code>POST</code> request has a body:\n"
   ]
  },
  {
   "cell_type": "code",
   "execution_count": null,
   "id": "830f16a2-a140-4628-825a-e7c95acd1fbe",
   "metadata": {},
   "outputs": [],
   "source": [
    "print(\"POST request body:\",response.request.body)\n",
    "print(\"GET request body:\",r.request.body)"
   ]
  },
  {
   "cell_type": "markdown",
   "id": "bc7ca894-1df9-4945-b8ac-edc707b2ca9d",
   "metadata": {},
   "source": [
    "We can view the form as well:\n"
   ]
  },
  {
   "cell_type": "code",
   "execution_count": null,
   "id": "f4f83e29-c70c-47b9-b983-dce08299fdad",
   "metadata": {},
   "outputs": [],
   "source": [
    "response.json()['form']"
   ]
  },
  {
   "cell_type": "markdown",
   "id": "91e3d9d9-dd56-409d-a04c-75c1fd5c0005",
   "metadata": {},
   "source": [
    "There is a lot more you can do. Check out <a href=\"https://requests.readthedocs.io/en/master/?utm_medium=Exinfluencer&utm_source=Exinfluencer&utm_content=000026UJ&utm_term=10006555&utm_id=NA-SkillsNetwork-Channel-SkillsNetworkCoursesIBMDeveloperSkillsNetworkPY0101ENSkillsNetwork19487395-2021-01-01\">Requests </a> for more.\n"
   ]
  },
  {
   "cell_type": "markdown",
   "id": "629b7385-581d-4da8-bdfa-e0ea29154148",
   "metadata": {},
   "source": [
    "<hr>\n"
   ]
  }
 ],
 "metadata": {
  "kernelspec": {
   "display_name": "Python",
   "language": "python",
   "name": "conda-env-python-py"
  },
  "language_info": {
   "codemirror_mode": {
    "name": "ipython",
    "version": 3
   },
   "file_extension": ".py",
   "mimetype": "text/x-python",
   "name": "python",
   "nbconvert_exporter": "python",
   "pygments_lexer": "ipython3",
   "version": "3.7.12"
  },
  "prev_pub_hash": "0a7a2c01c3d248253d220c043e2b33c202ad5dec5bdd743df63191da0de23451"
 },
 "nbformat": 4,
 "nbformat_minor": 4
}
